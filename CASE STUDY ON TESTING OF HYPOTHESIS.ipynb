{
 "cells": [
  {
   "cell_type": "code",
   "execution_count": 9,
   "id": "9fcbc884",
   "metadata": {},
   "outputs": [],
   "source": [
    "import pandas as pd\n",
    "from scipy.stats import ttest_rel, chi2_contingency\n"
   ]
  },
  {
   "cell_type": "code",
   "execution_count": 10,
   "id": "bf9955db",
   "metadata": {},
   "outputs": [],
   "source": [
    "# Assuming your dataset is named 'df'\n",
    "df = pd.read_csv(\"C:\\\\Users\\\\user\\\\Downloads\\\\Sales_add.csv\")\n"
   ]
  },
  {
   "cell_type": "markdown",
   "id": "94442e0e",
   "metadata": {},
   "source": [
    "# Explore the data"
   ]
  },
  {
   "cell_type": "code",
   "execution_count": 14,
   "id": "3f712cb1",
   "metadata": {},
   "outputs": [
    {
     "name": "stdout",
     "output_type": "stream",
     "text": [
      "       Month      Region      Manager  Sales_before_digital_add(in $)  \\\n",
      "0    Month-1  Region - A  Manager - A                          132921   \n",
      "1    Month-2  Region - A  Manager - C                          149559   \n",
      "2    Month-3  Region - B  Manager - A                          146278   \n",
      "3    Month-4  Region - B  Manager - B                          152167   \n",
      "4    Month-5  Region - C  Manager - B                          159525   \n",
      "5    Month-6  Region - A  Manager - B                          137163   \n",
      "6    Month-7  Region - C  Manager - C                          130625   \n",
      "7    Month-8  Region - A  Manager - A                          131140   \n",
      "8    Month-9  Region - B  Manager - C                          171259   \n",
      "9   Month-10  Region - C  Manager - B                          141956   \n",
      "10  Month-11  Region - B  Manager - C                          159339   \n",
      "11  Month-12  Region - A  Manager - A                          178939   \n",
      "12  Month-13  Region - B  Manager - A                          145062   \n",
      "13  Month-14  Region - A  Manager - A                          151514   \n",
      "14  Month-15  Region - C  Manager - A                          147463   \n",
      "15  Month-16  Region - A  Manager - B                          177195   \n",
      "16  Month-17  Region - A  Manager - C                          140862   \n",
      "17  Month-18  Region - C  Manager - B                          167996   \n",
      "18  Month-19  Region - B  Manager - A                          132135   \n",
      "19  Month-20  Region - A  Manager - B                          152493   \n",
      "20  Month-21  Region - B  Manager - A                          147425   \n",
      "21  Month-22  Region - A  Manager - C                          130263   \n",
      "\n",
      "    Sales_After_digital_add(in $)  \n",
      "0                          270390  \n",
      "1                          223334  \n",
      "2                          244243  \n",
      "3                          231808  \n",
      "4                          258402  \n",
      "5                          256948  \n",
      "6                          222106  \n",
      "7                          230637  \n",
      "8                          226261  \n",
      "9                          193735  \n",
      "10                         203175  \n",
      "11                         276279  \n",
      "12                         205180  \n",
      "13                         253131  \n",
      "14                         229336  \n",
      "15                         187305  \n",
      "16                         234908  \n",
      "17                         191517  \n",
      "18                         227040  \n",
      "19                         212579  \n",
      "20                         263388  \n",
      "21                         243020  \n",
      "     Month      Region      Manager  Sales_before_digital_add(in $)  \\\n",
      "0  Month-1  Region - A  Manager - A                          132921   \n",
      "1  Month-2  Region - A  Manager - C                          149559   \n",
      "2  Month-3  Region - B  Manager - A                          146278   \n",
      "3  Month-4  Region - B  Manager - B                          152167   \n",
      "4  Month-5  Region - C  Manager - B                          159525   \n",
      "\n",
      "   Sales_After_digital_add(in $)  \n",
      "0                         270390  \n",
      "1                         223334  \n",
      "2                         244243  \n",
      "3                         231808  \n",
      "4                         258402  \n",
      "       Sales_before_digital_add(in $)  Sales_After_digital_add(in $)\n",
      "count                       22.000000                      22.000000\n",
      "mean                    149239.954545                  231123.727273\n",
      "std                      14844.042921                   25556.777061\n",
      "min                     130263.000000                  187305.000000\n",
      "25%                     138087.750000                  214960.750000\n",
      "50%                     147444.000000                  229986.500000\n",
      "75%                     157627.500000                  250909.000000\n",
      "max                     178939.000000                  276279.000000\n",
      "['Region - A' 'Region - B' 'Region - C']\n",
      "['Manager - A' 'Manager - C' 'Manager - B']\n"
     ]
    }
   ],
   "source": [
    "# Display the first few rows of the dataset\n",
    "print(df)\n",
    "print(df.head())\n",
    "\n",
    "# Check summary statistics\n",
    "print(df.describe())\n",
    "\n",
    "# Check unique values in categorical columns\n",
    "print(df['Region'].unique())\n",
    "print(df['Manager'].unique())\n"
   ]
  },
  {
   "cell_type": "markdown",
   "id": "c3378db3",
   "metadata": {},
   "source": [
    "# Hypothesis Testing for Sales Increase"
   ]
  },
  {
   "cell_type": "code",
   "execution_count": 16,
   "id": "79a3d7b2",
   "metadata": {},
   "outputs": [
    {
     "name": "stdout",
     "output_type": "stream",
     "text": [
      "P-value: 6.336667004575778e-11\n",
      "Reject the null hypothesis. There is a significant increase in sales.\n"
     ]
    }
   ],
   "source": [
    "# Assuming 'Sales_Before' and 'Sales_After' are columns representing sales before and after digital marketing\n",
    "t_stat, p_value = ttest_rel(df['Sales_before_digital_add(in $)'], df['Sales_After_digital_add(in $)'])\n",
    "\n",
    "\n",
    "# Check the p-value\n",
    "print(f\"P-value: {p_value}\")\n",
    "\n",
    "# Compare p-value with significance level (e.g., 0.05)\n",
    "if p_value < 0.05:\n",
    "    print(\"Reject the null hypothesis. There is a significant increase in sales.\")\n",
    "else:\n",
    "    print(\"Accept null hypothesis. There is no significant increase in sales.\")\n"
   ]
  },
  {
   "cell_type": "markdown",
   "id": "466af721",
   "metadata": {},
   "source": [
    "# Dependency between Region and Manager"
   ]
  },
  {
   "cell_type": "code",
   "execution_count": 15,
   "id": "3e022c7f",
   "metadata": {},
   "outputs": [
    {
     "name": "stdout",
     "output_type": "stream",
     "text": [
      "P-value: 0.5493991051158094\n",
      "Accept null hypothesis. There is no dependency between Region and Manager.\n"
     ]
    }
   ],
   "source": [
    "# Create a contingency table\n",
    "contingency_table = pd.crosstab(df['Region'], df['Manager'])\n",
    "\n",
    "# Chi-square test for independence\n",
    "chi2_stat, p_value, _, _ = chi2_contingency(contingency_table)\n",
    "\n",
    "# Check the p-value\n",
    "print(f\"P-value: {p_value}\")\n",
    "\n",
    "# Compare p-value with significance level (e.g., 0.05)\n",
    "if p_value < 0.05:\n",
    "    print(\"Reject the null hypothesis. There is a dependency between Region and Manager.\")\n",
    "else:\n",
    "    print(\"Accept null hypothesis. There is no dependency between Region and Manager.\")\n"
   ]
  },
  {
   "cell_type": "code",
   "execution_count": null,
   "id": "f4afb7e4",
   "metadata": {},
   "outputs": [],
   "source": []
  }
 ],
 "metadata": {
  "kernelspec": {
   "display_name": "Python 3 (ipykernel)",
   "language": "python",
   "name": "python3"
  },
  "language_info": {
   "codemirror_mode": {
    "name": "ipython",
    "version": 3
   },
   "file_extension": ".py",
   "mimetype": "text/x-python",
   "name": "python",
   "nbconvert_exporter": "python",
   "pygments_lexer": "ipython3",
   "version": "3.9.13"
  }
 },
 "nbformat": 4,
 "nbformat_minor": 5
}
