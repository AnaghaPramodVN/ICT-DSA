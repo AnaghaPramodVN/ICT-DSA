{
 "cells": [
  {
   "cell_type": "code",
   "execution_count": 1,
   "id": "1c33ed11",
   "metadata": {},
   "outputs": [],
   "source": [
    "import pandas as pd\n",
    "import numpy as np"
   ]
  },
  {
   "cell_type": "code",
   "execution_count": 5,
   "id": "c9322541",
   "metadata": {},
   "outputs": [],
   "source": [
    "data = pd.read_csv(\"C:\\\\Users\\\\user\\\\Downloads\\\\StudentsPerformance.csv\")"
   ]
  },
  {
   "cell_type": "code",
   "execution_count": 6,
   "id": "239c9ca7",
   "metadata": {
    "scrolled": true
   },
   "outputs": [
    {
     "data": {
      "text/html": [
       "<div>\n",
       "<style scoped>\n",
       "    .dataframe tbody tr th:only-of-type {\n",
       "        vertical-align: middle;\n",
       "    }\n",
       "\n",
       "    .dataframe tbody tr th {\n",
       "        vertical-align: top;\n",
       "    }\n",
       "\n",
       "    .dataframe thead th {\n",
       "        text-align: right;\n",
       "    }\n",
       "</style>\n",
       "<table border=\"1\" class=\"dataframe\">\n",
       "  <thead>\n",
       "    <tr style=\"text-align: right;\">\n",
       "      <th></th>\n",
       "      <th>gender</th>\n",
       "      <th>race/ethnicity</th>\n",
       "      <th>parental level of education</th>\n",
       "      <th>lunch</th>\n",
       "      <th>test preparation course</th>\n",
       "      <th>math score</th>\n",
       "      <th>reading score</th>\n",
       "      <th>writing score</th>\n",
       "    </tr>\n",
       "  </thead>\n",
       "  <tbody>\n",
       "    <tr>\n",
       "      <th>0</th>\n",
       "      <td>female</td>\n",
       "      <td>group C</td>\n",
       "      <td>some high school</td>\n",
       "      <td>free/reduced</td>\n",
       "      <td>none</td>\n",
       "      <td>0</td>\n",
       "      <td>17</td>\n",
       "      <td>10</td>\n",
       "    </tr>\n",
       "    <tr>\n",
       "      <th>1</th>\n",
       "      <td>female</td>\n",
       "      <td>group B</td>\n",
       "      <td>high school</td>\n",
       "      <td>free/reduced</td>\n",
       "      <td>none</td>\n",
       "      <td>8</td>\n",
       "      <td>24</td>\n",
       "      <td>23</td>\n",
       "    </tr>\n",
       "    <tr>\n",
       "      <th>2</th>\n",
       "      <td>female</td>\n",
       "      <td>group B</td>\n",
       "      <td>some high school</td>\n",
       "      <td>free/reduced</td>\n",
       "      <td>none</td>\n",
       "      <td>18</td>\n",
       "      <td>32</td>\n",
       "      <td>28</td>\n",
       "    </tr>\n",
       "    <tr>\n",
       "      <th>3</th>\n",
       "      <td>female</td>\n",
       "      <td>group B</td>\n",
       "      <td>some college</td>\n",
       "      <td>standard</td>\n",
       "      <td>none</td>\n",
       "      <td>11</td>\n",
       "      <td>38</td>\n",
       "      <td>32</td>\n",
       "    </tr>\n",
       "    <tr>\n",
       "      <th>4</th>\n",
       "      <td>female</td>\n",
       "      <td>group C</td>\n",
       "      <td>some college</td>\n",
       "      <td>free/reduced</td>\n",
       "      <td>none</td>\n",
       "      <td>22</td>\n",
       "      <td>39</td>\n",
       "      <td>33</td>\n",
       "    </tr>\n",
       "  </tbody>\n",
       "</table>\n",
       "</div>"
      ],
      "text/plain": [
       "   gender race/ethnicity parental level of education         lunch  \\\n",
       "0  female        group C            some high school  free/reduced   \n",
       "1  female        group B                 high school  free/reduced   \n",
       "2  female        group B            some high school  free/reduced   \n",
       "3  female        group B                some college      standard   \n",
       "4  female        group C                some college  free/reduced   \n",
       "\n",
       "  test preparation course  math score  reading score  writing score  \n",
       "0                    none           0             17             10  \n",
       "1                    none           8             24             23  \n",
       "2                    none          18             32             28  \n",
       "3                    none          11             38             32  \n",
       "4                    none          22             39             33  "
      ]
     },
     "execution_count": 6,
     "metadata": {},
     "output_type": "execute_result"
    }
   ],
   "source": [
    "data.head()"
   ]
  },
  {
   "cell_type": "markdown",
   "id": "d1859a70",
   "metadata": {},
   "source": [
    "# 1. Find out how many males and females participated in the test.\n"
   ]
  },
  {
   "cell_type": "code",
   "execution_count": 9,
   "id": "498c6b6d",
   "metadata": {},
   "outputs": [
    {
     "name": "stdout",
     "output_type": "stream",
     "text": [
      "Number of males: 482\n",
      "Number of females: 518\n"
     ]
    }
   ],
   "source": [
    "gender_counts = data['gender'].value_counts()\n",
    "print(\"Number of males:\", gender_counts['male'])\n",
    "print(\"Number of females:\", gender_counts['female'])"
   ]
  },
  {
   "cell_type": "markdown",
   "id": "3de72461",
   "metadata": {},
   "source": [
    "# 2. Explore students' parental level of education"
   ]
  },
  {
   "cell_type": "code",
   "execution_count": 10,
   "id": "0ce09e7f",
   "metadata": {},
   "outputs": [
    {
     "name": "stdout",
     "output_type": "stream",
     "text": [
      "\n",
      "Parental Level of Education:\n",
      "some college          226\n",
      "associate's degree    222\n",
      "high school           196\n",
      "some high school      179\n",
      "bachelor's degree     118\n",
      "master's degree        59\n",
      "Name: parental level of education, dtype: int64\n"
     ]
    }
   ],
   "source": [
    "parental_education_counts = data['parental level of education'].value_counts()\n",
    "print(\"\\nParental Level of Education:\")\n",
    "print(parental_education_counts)"
   ]
  },
  {
   "cell_type": "markdown",
   "id": "5c2a154c",
   "metadata": {},
   "source": [
    "# 3. Average scores for math, reading, and writing based on gender and test preparation course"
   ]
  },
  {
   "cell_type": "code",
   "execution_count": 18,
   "id": "1272f6b5",
   "metadata": {},
   "outputs": [
    {
     "name": "stdout",
     "output_type": "stream",
     "text": [
      "        math score  reading score  writing score\n",
      "gender                                          \n",
      "female   63.376448      72.590734      72.467181\n",
      "male     68.821577      65.545643      63.446058\n",
      "\n",
      "\n",
      "                         math score  reading score  writing score\n",
      "test preparation course                                          \n",
      "completed                  69.96648      74.175978      74.684358\n",
      "none                       63.78972      66.417445      64.457944\n"
     ]
    }
   ],
   "source": [
    "average_scores_gender = data.groupby('gender').mean()[['math score', 'reading score', 'writing score']]\n",
    "average_scores_course = data.groupby('test preparation course').mean()[['math score', 'reading score', 'writing score']]\n",
    "print(average_scores_gender)\n",
    "print(\"\\n\")\n",
    "print(average_scores_course)"
   ]
  },
  {
   "cell_type": "markdown",
   "id": "089cd172",
   "metadata": {},
   "source": [
    "# 4. Scoring variation for math, reading, and writing based on gender and test preparation course"
   ]
  },
  {
   "cell_type": "code",
   "execution_count": 19,
   "id": "5ee4dc19",
   "metadata": {},
   "outputs": [
    {
     "name": "stdout",
     "output_type": "stream",
     "text": [
      "\n",
      "Scoring Variation based on Gender:\n",
      "        math score  reading score  writing score\n",
      "gender                                          \n",
      "female   16.029928      14.411018      14.844842\n",
      "male     14.556411      14.149594      14.227225\n",
      "\n",
      "Scoring Variation based on Test Preparation Course:\n",
      "                         math score  reading score  writing score\n",
      "test preparation course                                          \n",
      "completed                 14.521847      13.537572      13.236412\n",
      "none                      15.705689      14.608896      15.041667\n"
     ]
    }
   ],
   "source": [
    "score_variation_gender = data.groupby('gender').std()[['math score', 'reading score', 'writing score']]\n",
    "score_variation_course = data.groupby('test preparation course').std()[['math score', 'reading score', 'writing score']]\n",
    "\n",
    "print(\"\\nScoring Variation based on Gender:\")\n",
    "print(score_variation_gender)\n",
    "\n",
    "print(\"\\nScoring Variation based on Test Preparation Course:\")\n",
    "print(score_variation_course)"
   ]
  },
  {
   "cell_type": "markdown",
   "id": "8420e693",
   "metadata": {},
   "source": [
    "# 5. Bonus points for the top 25% of students based on math score"
   ]
  },
  {
   "cell_type": "code",
   "execution_count": 22,
   "id": "9aafa1c9",
   "metadata": {},
   "outputs": [
    {
     "name": "stdout",
     "output_type": "stream",
     "text": [
      "\n",
      "Updated Dataset with Bonus Points:\n",
      "   gender race/ethnicity parental level of education         lunch  \\\n",
      "0  female        group C            some high school  free/reduced   \n",
      "1  female        group B                 high school  free/reduced   \n",
      "2  female        group B            some high school  free/reduced   \n",
      "3  female        group B                some college      standard   \n",
      "4  female        group C                some college  free/reduced   \n",
      "\n",
      "  test preparation course  math score  reading score  writing score  \\\n",
      "0                    none           0             17             10   \n",
      "1                    none           8             24             23   \n",
      "2                    none          18             32             28   \n",
      "3                    none          11             38             32   \n",
      "4                    none          22             39             33   \n",
      "\n",
      "   bonus_points  \n",
      "0             0  \n",
      "1             0  \n",
      "2             0  \n",
      "3             0  \n",
      "4             0  \n"
     ]
    }
   ],
   "source": [
    "top_25_percentile_math = np.percentile(data['math score'], 75)\n",
    "data['bonus_points'] = np.where(data['math score'] >= top_25_percentile_math, 5, 0)\n",
    "print(\"\\nUpdated Dataset with Bonus Points:\")\n",
    "print(data.head())"
   ]
  },
  {
   "cell_type": "code",
   "execution_count": null,
   "id": "e170d654",
   "metadata": {},
   "outputs": [],
   "source": []
  }
 ],
 "metadata": {
  "kernelspec": {
   "display_name": "Python 3 (ipykernel)",
   "language": "python",
   "name": "python3"
  },
  "language_info": {
   "codemirror_mode": {
    "name": "ipython",
    "version": 3
   },
   "file_extension": ".py",
   "mimetype": "text/x-python",
   "name": "python",
   "nbconvert_exporter": "python",
   "pygments_lexer": "ipython3",
   "version": "3.9.13"
  }
 },
 "nbformat": 4,
 "nbformat_minor": 5
}
